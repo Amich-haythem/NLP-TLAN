{
 "cells": [
  {
   "cell_type": "markdown",
   "metadata": {},
   "source": [
    "# BOW"
   ]
  },
  {
   "cell_type": "code",
   "execution_count": 1,
   "metadata": {},
   "outputs": [],
   "source": [
    "import nltk \n",
    "import re\n",
    "import numpy\n",
    "from nltk.corpus import stopwords"
   ]
  },
  {
   "cell_type": "code",
   "execution_count": 2,
   "metadata": {},
   "outputs": [],
   "source": [
    "\n",
    "def word_extraction(sentence):\n",
    "    words = re.sub(\"[^\\w]\", \" \",  sentence).split()\n",
    "    cleaned_text = [w.lower() for w in words if w not in stopwords.words('english')]\n",
    "    return cleaned_text"
   ]
  },
  {
   "cell_type": "code",
   "execution_count": 3,
   "metadata": {},
   "outputs": [],
   "source": [
    "def tokenize(sentences):\n",
    "    words = []\n",
    "    for sentence in sentences:\n",
    "        w = word_extraction(sentence)\n",
    "        words.extend(w)\n",
    "    words = sorted(list(set(words)))\n",
    "    return words"
   ]
  },
  {
   "cell_type": "code",
   "execution_count": 4,
   "metadata": {},
   "outputs": [],
   "source": [
    "text = \"In addition to these carefully designed methods,=. a word embedding can be learned as part of a deep learning model. This can be a slower approach, but tailors the model to a specific training dataset\""
   ]
  },
  {
   "cell_type": "code",
   "execution_count": 5,
   "metadata": {},
   "outputs": [
    {
     "data": {
      "text/plain": [
       "['in',\n",
       " 'addition',\n",
       " 'carefully',\n",
       " 'designed',\n",
       " 'methods',\n",
       " 'word',\n",
       " 'embedding',\n",
       " 'learned',\n",
       " 'part',\n",
       " 'deep',\n",
       " 'learning',\n",
       " 'model',\n",
       " 'this',\n",
       " 'slower',\n",
       " 'approach',\n",
       " 'tailors',\n",
       " 'model',\n",
       " 'specific',\n",
       " 'training',\n",
       " 'dataset']"
      ]
     },
     "execution_count": 5,
     "metadata": {},
     "output_type": "execute_result"
    }
   ],
   "source": [
    "word_extraction(text)"
   ]
  },
  {
   "cell_type": "code",
   "execution_count": 6,
   "metadata": {},
   "outputs": [
    {
     "data": {
      "text/plain": [
       "['addition',\n",
       " 'approach',\n",
       " 'carefully',\n",
       " 'dataset',\n",
       " 'deep',\n",
       " 'designed',\n",
       " 'embedding',\n",
       " 'learned',\n",
       " 'learning',\n",
       " 'methods',\n",
       " 'model',\n",
       " 'part',\n",
       " 'slower',\n",
       " 'specific',\n",
       " 'tailors',\n",
       " 'training',\n",
       " 'word']"
      ]
     },
     "execution_count": 6,
     "metadata": {},
     "output_type": "execute_result"
    }
   ],
   "source": [
    "tokenize(word_extraction(text))"
   ]
  },
  {
   "cell_type": "code",
   "execution_count": 7,
   "metadata": {},
   "outputs": [],
   "source": [
    "def generate_bow(allsentences):\n",
    "    vocab = tokenize(allsentences)\n",
    "    print(\"Word List for Document \\n{0} \\n\".format(vocab))\n",
    "    for sentence in allsentences:\n",
    "        words = word_extraction(sentence)\n",
    "        bag_vector = numpy.zeros(len(vocab))\n",
    "        for w in words:\n",
    "            for i,word in enumerate(vocab):\n",
    "                if word == w:\n",
    "                    bag_vector[i] += 1\n",
    "        print(\"{0}\\n{1}\\n\".format(sentence,numpy.array(bag_vector)))\n",
    "        print('---------------------------------------------------')"
   ]
  },
  {
   "cell_type": "code",
   "execution_count": 8,
   "metadata": {},
   "outputs": [
    {
     "name": "stdout",
     "output_type": "stream",
     "text": [
      "Word List for Document \n",
      "['addition', 'approach', 'carefully', 'dataset', 'deep', 'designed', 'embedding', 'learned', 'learning', 'methods', 'model', 'part', 'slower', 'specific', 'tailors', 'training', 'word'] \n",
      "\n",
      "in\n",
      "[0. 0. 0. 0. 0. 0. 0. 0. 0. 0. 0. 0. 0. 0. 0. 0. 0.]\n",
      "\n",
      "---------------------------------------------------\n",
      "addition\n",
      "[1. 0. 0. 0. 0. 0. 0. 0. 0. 0. 0. 0. 0. 0. 0. 0. 0.]\n",
      "\n",
      "---------------------------------------------------\n",
      "carefully\n",
      "[0. 0. 1. 0. 0. 0. 0. 0. 0. 0. 0. 0. 0. 0. 0. 0. 0.]\n",
      "\n",
      "---------------------------------------------------\n",
      "designed\n",
      "[0. 0. 0. 0. 0. 1. 0. 0. 0. 0. 0. 0. 0. 0. 0. 0. 0.]\n",
      "\n",
      "---------------------------------------------------\n",
      "methods\n",
      "[0. 0. 0. 0. 0. 0. 0. 0. 0. 1. 0. 0. 0. 0. 0. 0. 0.]\n",
      "\n",
      "---------------------------------------------------\n",
      "word\n",
      "[0. 0. 0. 0. 0. 0. 0. 0. 0. 0. 0. 0. 0. 0. 0. 0. 1.]\n",
      "\n",
      "---------------------------------------------------\n",
      "embedding\n",
      "[0. 0. 0. 0. 0. 0. 1. 0. 0. 0. 0. 0. 0. 0. 0. 0. 0.]\n",
      "\n",
      "---------------------------------------------------\n",
      "learned\n",
      "[0. 0. 0. 0. 0. 0. 0. 1. 0. 0. 0. 0. 0. 0. 0. 0. 0.]\n",
      "\n",
      "---------------------------------------------------\n",
      "part\n",
      "[0. 0. 0. 0. 0. 0. 0. 0. 0. 0. 0. 1. 0. 0. 0. 0. 0.]\n",
      "\n",
      "---------------------------------------------------\n",
      "deep\n",
      "[0. 0. 0. 0. 1. 0. 0. 0. 0. 0. 0. 0. 0. 0. 0. 0. 0.]\n",
      "\n",
      "---------------------------------------------------\n",
      "learning\n",
      "[0. 0. 0. 0. 0. 0. 0. 0. 1. 0. 0. 0. 0. 0. 0. 0. 0.]\n",
      "\n",
      "---------------------------------------------------\n",
      "model\n",
      "[0. 0. 0. 0. 0. 0. 0. 0. 0. 0. 1. 0. 0. 0. 0. 0. 0.]\n",
      "\n",
      "---------------------------------------------------\n",
      "this\n",
      "[0. 0. 0. 0. 0. 0. 0. 0. 0. 0. 0. 0. 0. 0. 0. 0. 0.]\n",
      "\n",
      "---------------------------------------------------\n",
      "slower\n",
      "[0. 0. 0. 0. 0. 0. 0. 0. 0. 0. 0. 0. 1. 0. 0. 0. 0.]\n",
      "\n",
      "---------------------------------------------------\n",
      "approach\n",
      "[0. 1. 0. 0. 0. 0. 0. 0. 0. 0. 0. 0. 0. 0. 0. 0. 0.]\n",
      "\n",
      "---------------------------------------------------\n",
      "tailors\n",
      "[0. 0. 0. 0. 0. 0. 0. 0. 0. 0. 0. 0. 0. 0. 1. 0. 0.]\n",
      "\n",
      "---------------------------------------------------\n",
      "model\n",
      "[0. 0. 0. 0. 0. 0. 0. 0. 0. 0. 1. 0. 0. 0. 0. 0. 0.]\n",
      "\n",
      "---------------------------------------------------\n",
      "specific\n",
      "[0. 0. 0. 0. 0. 0. 0. 0. 0. 0. 0. 0. 0. 1. 0. 0. 0.]\n",
      "\n",
      "---------------------------------------------------\n",
      "training\n",
      "[0. 0. 0. 0. 0. 0. 0. 0. 0. 0. 0. 0. 0. 0. 0. 1. 0.]\n",
      "\n",
      "---------------------------------------------------\n",
      "dataset\n",
      "[0. 0. 0. 1. 0. 0. 0. 0. 0. 0. 0. 0. 0. 0. 0. 0. 0.]\n",
      "\n",
      "---------------------------------------------------\n"
     ]
    }
   ],
   "source": [
    "\n",
    "generate_bow(word_extraction(text))"
   ]
  },
  {
   "cell_type": "code",
   "execution_count": 9,
   "metadata": {},
   "outputs": [],
   "source": [
    "\n",
    "allsentences = [\"Joe waited for the train\",\n",
    "                \"The train was late\", \"as part of a deep learning model. This can be a slower approach\",\n",
    "                \"Mary and Samantha took the bus\",\n",
    "               \"I looked for Mary and Samantha at the bus station\",\n",
    "                \"Mary and Samantha arrived at the bus station early but waited until noon for the bus\"]"
   ]
  },
  {
   "cell_type": "code",
   "execution_count": 10,
   "metadata": {},
   "outputs": [
    {
     "name": "stdout",
     "output_type": "stream",
     "text": [
      "Word List for Document \n",
      "['approach', 'arrived', 'bus', 'deep', 'early', 'i', 'joe', 'late', 'learning', 'looked', 'mary', 'model', 'noon', 'part', 'samantha', 'slower', 'station', 'the', 'this', 'took', 'train', 'waited'] \n",
      "\n",
      "Joe waited for the train\n",
      "[0. 0. 0. 0. 0. 0. 1. 0. 0. 0. 0. 0. 0. 0. 0. 0. 0. 0. 0. 0. 1. 1.]\n",
      "\n",
      "---------------------------------------------------\n",
      "The train was late\n",
      "[0. 0. 0. 0. 0. 0. 0. 1. 0. 0. 0. 0. 0. 0. 0. 0. 0. 1. 0. 0. 1. 0.]\n",
      "\n",
      "---------------------------------------------------\n",
      "as part of a deep learning model. This can be a slower approach\n",
      "[1. 0. 0. 1. 0. 0. 0. 0. 1. 0. 0. 1. 0. 1. 0. 1. 0. 0. 1. 0. 0. 0.]\n",
      "\n",
      "---------------------------------------------------\n",
      "Mary and Samantha took the bus\n",
      "[0. 0. 1. 0. 0. 0. 0. 0. 0. 0. 1. 0. 0. 0. 1. 0. 0. 0. 0. 1. 0. 0.]\n",
      "\n",
      "---------------------------------------------------\n",
      "I looked for Mary and Samantha at the bus station\n",
      "[0. 0. 1. 0. 0. 1. 0. 0. 0. 1. 1. 0. 0. 0. 1. 0. 1. 0. 0. 0. 0. 0.]\n",
      "\n",
      "---------------------------------------------------\n",
      "Mary and Samantha arrived at the bus station early but waited until noon for the bus\n",
      "[0. 1. 2. 0. 1. 0. 0. 0. 0. 0. 1. 0. 1. 0. 1. 0. 1. 0. 0. 0. 0. 1.]\n",
      "\n",
      "---------------------------------------------------\n"
     ]
    }
   ],
   "source": [
    "generate_bow(allsentences)"
   ]
  },
  {
   "cell_type": "code",
   "execution_count": 11,
   "metadata": {},
   "outputs": [
    {
     "name": "stdout",
     "output_type": "stream",
     "text": [
      "Joe waited for the train\n",
      "[0, 0, 0, 0, 0, 0, 0, 0, 0, 0, 0, 1, 1, 0, 0, 0, 0, 0, 0, 0, 0, 0, 0, 0, 1, 0, 0, 1, 0, 1, 0]\n",
      "---------------------------------------------------\n",
      "The train was late\n",
      "[0, 0, 0, 0, 0, 0, 0, 0, 0, 0, 0, 0, 0, 1, 0, 0, 0, 0, 0, 0, 0, 0, 0, 0, 1, 0, 0, 1, 0, 0, 1]\n",
      "---------------------------------------------------\n",
      "as part of a deep learning model. This can be a slower approach\n",
      "[0, 1, 0, 1, 0, 1, 0, 0, 1, 1, 0, 0, 0, 0, 1, 0, 0, 1, 0, 1, 1, 0, 1, 0, 0, 1, 0, 0, 0, 0, 0]\n",
      "---------------------------------------------------\n",
      "Mary and Samantha took the bus\n",
      "[1, 0, 0, 0, 0, 0, 1, 0, 0, 0, 0, 0, 0, 0, 0, 0, 1, 0, 0, 0, 0, 1, 0, 0, 1, 0, 1, 0, 0, 0, 0]\n",
      "---------------------------------------------------\n",
      "I looked for Mary and Samantha at the bus station\n",
      "[1, 0, 0, 0, 1, 0, 1, 0, 0, 0, 0, 1, 0, 0, 0, 1, 1, 0, 0, 0, 0, 1, 0, 1, 1, 0, 0, 0, 0, 0, 0]\n",
      "---------------------------------------------------\n",
      "Mary and Samantha arrived at the bus station early but waited until noon for the bus\n",
      "[1, 0, 1, 0, 1, 0, 2, 1, 0, 0, 1, 1, 0, 0, 0, 0, 1, 0, 1, 0, 0, 1, 0, 1, 2, 0, 0, 0, 1, 1, 0]\n",
      "---------------------------------------------------\n"
     ]
    }
   ],
   "source": [
    "from sklearn.feature_extraction.text import CountVectorizer\n",
    "\n",
    "vectorizer = CountVectorizer()\n",
    "X = vectorizer.fit_transform(allsentences)\n",
    "\n",
    "for i in range(len(allsentences)) : \n",
    "    print(allsentences[i])\n",
    "    print(list(X.toarray()[i]))\n",
    "    \n",
    "    print('---------------------------------------------------')"
   ]
  },
  {
   "cell_type": "code",
   "execution_count": 12,
   "metadata": {},
   "outputs": [
    {
     "data": {
      "text/plain": [
       "['المدرسة', 'الي', 'اليوم', 'ذهب', 'شريف', 'محمد', 'هذا', 'و']"
      ]
     },
     "execution_count": 12,
     "metadata": {},
     "output_type": "execute_result"
    }
   ],
   "source": [
    "text = \"ذهب محمد و شريف  الي المدرسة هذا اليوم\"\n",
    "word_extraction(text)\n",
    "tokenize(word_extraction(text))"
   ]
  },
  {
   "cell_type": "code",
   "execution_count": 13,
   "metadata": {},
   "outputs": [
    {
     "name": "stdout",
     "output_type": "stream",
     "text": [
      "Word List for Document \n",
      "['المدرسة', 'الي', 'اليوم', 'ذهب', 'شريف', 'محمد', 'هذا', 'و'] \n",
      "\n",
      "ذهب\n",
      "[0. 0. 0. 1. 0. 0. 0. 0.]\n",
      "\n",
      "---------------------------------------------------\n",
      "محمد\n",
      "[0. 0. 0. 0. 0. 1. 0. 0.]\n",
      "\n",
      "---------------------------------------------------\n",
      "و\n",
      "[0. 0. 0. 0. 0. 0. 0. 1.]\n",
      "\n",
      "---------------------------------------------------\n",
      "شريف\n",
      "[0. 0. 0. 0. 1. 0. 0. 0.]\n",
      "\n",
      "---------------------------------------------------\n",
      "الي\n",
      "[0. 1. 0. 0. 0. 0. 0. 0.]\n",
      "\n",
      "---------------------------------------------------\n",
      "المدرسة\n",
      "[1. 0. 0. 0. 0. 0. 0. 0.]\n",
      "\n",
      "---------------------------------------------------\n",
      "هذا\n",
      "[0. 0. 0. 0. 0. 0. 1. 0.]\n",
      "\n",
      "---------------------------------------------------\n",
      "اليوم\n",
      "[0. 0. 1. 0. 0. 0. 0. 0.]\n",
      "\n",
      "---------------------------------------------------\n"
     ]
    }
   ],
   "source": [
    "generate_bow(word_extraction(text))"
   ]
  },
  {
   "cell_type": "code",
   "execution_count": 14,
   "metadata": {},
   "outputs": [],
   "source": [
    "allsentences = [\"ذهب محمد الي الجامعة\",\n",
    "                \"نجحت مني في الاختبار\",\n",
    "                \"تمكن محمد من السفر هذا اليوم\",\n",
    "               \"اعتقد ان جورج سيتصل بنا اليوم\",\n",
    "                \"لا اظن ان الاختبار سيكون سهلا\"]"
   ]
  },
  {
   "cell_type": "code",
   "execution_count": 15,
   "metadata": {},
   "outputs": [
    {
     "name": "stdout",
     "output_type": "stream",
     "text": [
      "Word List for Document \n",
      "['اظن', 'اعتقد', 'الاختبار', 'الجامعة', 'السفر', 'الي', 'اليوم', 'ان', 'بنا', 'تمكن', 'جورج', 'ذهب', 'سهلا', 'سيتصل', 'سيكون', 'في', 'لا', 'محمد', 'من', 'مني', 'نجحت', 'هذا'] \n",
      "\n",
      "ذهب محمد الي الجامعة\n",
      "[0. 0. 0. 1. 0. 1. 0. 0. 0. 0. 0. 1. 0. 0. 0. 0. 0. 1. 0. 0. 0. 0.]\n",
      "\n",
      "---------------------------------------------------\n",
      "نجحت مني في الاختبار\n",
      "[0. 0. 1. 0. 0. 0. 0. 0. 0. 0. 0. 0. 0. 0. 0. 1. 0. 0. 0. 1. 1. 0.]\n",
      "\n",
      "---------------------------------------------------\n",
      "تمكن محمد من السفر هذا اليوم\n",
      "[0. 0. 0. 0. 1. 0. 1. 0. 0. 1. 0. 0. 0. 0. 0. 0. 0. 1. 1. 0. 0. 1.]\n",
      "\n",
      "---------------------------------------------------\n",
      "اعتقد ان جورج سيتصل بنا اليوم\n",
      "[0. 1. 0. 0. 0. 0. 1. 1. 1. 0. 1. 0. 0. 1. 0. 0. 0. 0. 0. 0. 0. 0.]\n",
      "\n",
      "---------------------------------------------------\n",
      "لا اظن ان الاختبار سيكون سهلا\n",
      "[1. 0. 1. 0. 0. 0. 0. 1. 0. 0. 0. 0. 1. 0. 1. 0. 1. 0. 0. 0. 0. 0.]\n",
      "\n",
      "---------------------------------------------------\n"
     ]
    }
   ],
   "source": [
    "\n",
    "generate_bow(allsentences)"
   ]
  },
  {
   "cell_type": "code",
   "execution_count": 16,
   "metadata": {},
   "outputs": [
    {
     "name": "stdout",
     "output_type": "stream",
     "text": [
      "ذهب محمد الي الجامعة\n",
      "[0, 0, 0, 1, 0, 1, 0, 0, 0, 0, 0, 1, 0, 0, 0, 0, 0, 1, 0, 0, 0, 0]\n",
      "---------------------------------------------------\n",
      "نجحت مني في الاختبار\n",
      "[0, 0, 1, 0, 0, 0, 0, 0, 0, 0, 0, 0, 0, 0, 0, 1, 0, 0, 0, 1, 1, 0]\n",
      "---------------------------------------------------\n",
      "تمكن محمد من السفر هذا اليوم\n",
      "[0, 0, 0, 0, 1, 0, 1, 0, 0, 1, 0, 0, 0, 0, 0, 0, 0, 1, 1, 0, 0, 1]\n",
      "---------------------------------------------------\n",
      "اعتقد ان جورج سيتصل بنا اليوم\n",
      "[0, 1, 0, 0, 0, 0, 1, 1, 1, 0, 1, 0, 0, 1, 0, 0, 0, 0, 0, 0, 0, 0]\n",
      "---------------------------------------------------\n",
      "لا اظن ان الاختبار سيكون سهلا\n",
      "[1, 0, 1, 0, 0, 0, 0, 1, 0, 0, 0, 0, 1, 0, 1, 0, 1, 0, 0, 0, 0, 0]\n",
      "---------------------------------------------------\n"
     ]
    }
   ],
   "source": [
    "from sklearn.feature_extraction.text import CountVectorizer\n",
    "\n",
    "vectorizer = CountVectorizer()\n",
    "X = vectorizer.fit_transform(allsentences)\n",
    "\n",
    "for i in range(len(allsentences)) : \n",
    "    print(allsentences[i])\n",
    "    print(list(X.toarray()[i]))\n",
    "    print('---------------------------------------------------')"
   ]
  },
  {
   "cell_type": "code",
   "execution_count": null,
   "metadata": {},
   "outputs": [],
   "source": []
  },
  {
   "cell_type": "code",
   "execution_count": null,
   "metadata": {},
   "outputs": [],
   "source": []
  },
  {
   "cell_type": "code",
   "execution_count": null,
   "metadata": {},
   "outputs": [],
   "source": []
  }
 ],
 "metadata": {
  "kernelspec": {
   "display_name": "Python 3",
   "language": "python",
   "name": "python3"
  },
  "language_info": {
   "codemirror_mode": {
    "name": "ipython",
    "version": 3
   },
   "file_extension": ".py",
   "mimetype": "text/x-python",
   "name": "python",
   "nbconvert_exporter": "python",
   "pygments_lexer": "ipython3",
   "version": "3.6.9"
  }
 },
 "nbformat": 4,
 "nbformat_minor": 2
}
