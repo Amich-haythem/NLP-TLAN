{
 "cells": [
  {
   "cell_type": "markdown",
   "metadata": {},
   "source": [
    "# TF-IDF"
   ]
  },
  {
   "cell_type": "code",
   "execution_count": 1,
   "metadata": {},
   "outputs": [],
   "source": [
    "import pandas as pd"
   ]
  },
  {
   "cell_type": "code",
   "execution_count": 2,
   "metadata": {},
   "outputs": [],
   "source": [
    "documentA = 'ذهب محمد الي الجامعة ليدرس الفيزياء و الكيمياء'\n",
    "documentB = 'ذاكرت مني الرياضيات و الفيزياء في الجامعة'"
   ]
  },
  {
   "cell_type": "code",
   "execution_count": 3,
   "metadata": {},
   "outputs": [],
   "source": [
    "bagOfWordsA = documentA.split(' ')\n",
    "bagOfWordsB = documentB.split(' ')"
   ]
  },
  {
   "cell_type": "code",
   "execution_count": 7,
   "metadata": {},
   "outputs": [
    {
     "data": {
      "text/plain": [
       "['ذهب', 'محمد', 'الي', 'الجامعة', 'ليدرس', 'الفيزياء', 'و', 'الكيمياء']"
      ]
     },
     "execution_count": 7,
     "metadata": {},
     "output_type": "execute_result"
    }
   ],
   "source": [
    "bagOfWordsA"
   ]
  },
  {
   "cell_type": "code",
   "execution_count": 5,
   "metadata": {},
   "outputs": [
    {
     "data": {
      "text/plain": [
       "{'الجامعة',\n",
       " 'الرياضيات',\n",
       " 'الفيزياء',\n",
       " 'الكيمياء',\n",
       " 'الي',\n",
       " 'ذاكرت',\n",
       " 'ذهب',\n",
       " 'في',\n",
       " 'ليدرس',\n",
       " 'محمد',\n",
       " 'مني',\n",
       " 'و'}"
      ]
     },
     "execution_count": 5,
     "metadata": {},
     "output_type": "execute_result"
    }
   ],
   "source": [
    "uniqueWords = set(bagOfWordsA).union(set(bagOfWordsB))\n",
    "uniqueWords"
   ]
  },
  {
   "cell_type": "code",
   "execution_count": 6,
   "metadata": {
    "scrolled": true
   },
   "outputs": [
    {
     "data": {
      "text/plain": [
       "{'و': 0,\n",
       " 'الرياضيات': 0,\n",
       " 'في': 0,\n",
       " 'ذهب': 0,\n",
       " 'محمد': 0,\n",
       " 'الجامعة': 0,\n",
       " 'مني': 0,\n",
       " 'ذاكرت': 0,\n",
       " 'ليدرس': 0,\n",
       " 'الي': 0,\n",
       " 'الكيمياء': 0,\n",
       " 'الفيزياء': 0}"
      ]
     },
     "execution_count": 6,
     "metadata": {},
     "output_type": "execute_result"
    }
   ],
   "source": [
    "numOfWordsA = dict.fromkeys(uniqueWords, 0)\n",
    "numOfWordsA"
   ]
  },
  {
   "cell_type": "code",
   "execution_count": 7,
   "metadata": {},
   "outputs": [
    {
     "data": {
      "text/plain": [
       "{'و': 1,\n",
       " 'الرياضيات': 0,\n",
       " 'في': 0,\n",
       " 'ذهب': 1,\n",
       " 'محمد': 1,\n",
       " 'الجامعة': 1,\n",
       " 'مني': 0,\n",
       " 'ذاكرت': 0,\n",
       " 'ليدرس': 1,\n",
       " 'الي': 1,\n",
       " 'الكيمياء': 1,\n",
       " 'الفيزياء': 1}"
      ]
     },
     "execution_count": 7,
     "metadata": {},
     "output_type": "execute_result"
    }
   ],
   "source": [
    "for word in bagOfWordsA:\n",
    "    numOfWordsA[word] += 1\n",
    "numOfWordsA"
   ]
  },
  {
   "cell_type": "code",
   "execution_count": 8,
   "metadata": {},
   "outputs": [
    {
     "data": {
      "text/plain": [
       "{'و': 0,\n",
       " 'الرياضيات': 0,\n",
       " 'في': 0,\n",
       " 'ذهب': 0,\n",
       " 'محمد': 0,\n",
       " 'الجامعة': 0,\n",
       " 'مني': 0,\n",
       " 'ذاكرت': 0,\n",
       " 'ليدرس': 0,\n",
       " 'الي': 0,\n",
       " 'الكيمياء': 0,\n",
       " 'الفيزياء': 0}"
      ]
     },
     "execution_count": 8,
     "metadata": {},
     "output_type": "execute_result"
    }
   ],
   "source": [
    "numOfWordsB = dict.fromkeys(uniqueWords, 0)\n",
    "numOfWordsB\n"
   ]
  },
  {
   "cell_type": "code",
   "execution_count": 9,
   "metadata": {},
   "outputs": [
    {
     "data": {
      "text/plain": [
       "{'و': 1,\n",
       " 'الرياضيات': 1,\n",
       " 'في': 1,\n",
       " 'ذهب': 0,\n",
       " 'محمد': 0,\n",
       " 'الجامعة': 1,\n",
       " 'مني': 1,\n",
       " 'ذاكرت': 1,\n",
       " 'ليدرس': 0,\n",
       " 'الي': 0,\n",
       " 'الكيمياء': 0,\n",
       " 'الفيزياء': 1}"
      ]
     },
     "execution_count": 9,
     "metadata": {},
     "output_type": "execute_result"
    }
   ],
   "source": [
    "for word in bagOfWordsB:\n",
    "    numOfWordsB[word] += 1\n",
    "\n",
    "numOfWordsB"
   ]
  },
  {
   "cell_type": "code",
   "execution_count": 10,
   "metadata": {},
   "outputs": [],
   "source": [
    "def computeTF(wordDict, bagOfWords):\n",
    "    tfDict = {}\n",
    "    bagOfWordsCount = len(bagOfWords)\n",
    "    for word, count in wordDict.items():\n",
    "        tfDict[word] = count / float(bagOfWordsCount)\n",
    "    return tfDict"
   ]
  },
  {
   "cell_type": "code",
   "execution_count": 11,
   "metadata": {},
   "outputs": [
    {
     "data": {
      "text/plain": [
       "{'و': 0.125,\n",
       " 'الرياضيات': 0.0,\n",
       " 'في': 0.0,\n",
       " 'ذهب': 0.125,\n",
       " 'محمد': 0.125,\n",
       " 'الجامعة': 0.125,\n",
       " 'مني': 0.0,\n",
       " 'ذاكرت': 0.0,\n",
       " 'ليدرس': 0.125,\n",
       " 'الي': 0.125,\n",
       " 'الكيمياء': 0.125,\n",
       " 'الفيزياء': 0.125}"
      ]
     },
     "execution_count": 11,
     "metadata": {},
     "output_type": "execute_result"
    }
   ],
   "source": [
    "tfA = computeTF(numOfWordsA,bagOfWordsA)\n",
    "tfA"
   ]
  },
  {
   "cell_type": "code",
   "execution_count": 12,
   "metadata": {},
   "outputs": [
    {
     "data": {
      "text/plain": [
       "{'و': 0.14285714285714285,\n",
       " 'الرياضيات': 0.14285714285714285,\n",
       " 'في': 0.14285714285714285,\n",
       " 'ذهب': 0.0,\n",
       " 'محمد': 0.0,\n",
       " 'الجامعة': 0.14285714285714285,\n",
       " 'مني': 0.14285714285714285,\n",
       " 'ذاكرت': 0.14285714285714285,\n",
       " 'ليدرس': 0.0,\n",
       " 'الي': 0.0,\n",
       " 'الكيمياء': 0.0,\n",
       " 'الفيزياء': 0.14285714285714285}"
      ]
     },
     "execution_count": 12,
     "metadata": {},
     "output_type": "execute_result"
    }
   ],
   "source": [
    "tfB = computeTF(numOfWordsB, bagOfWordsB)\n",
    "tfB"
   ]
  },
  {
   "cell_type": "code",
   "execution_count": 13,
   "metadata": {},
   "outputs": [],
   "source": [
    "def computeIDF(documents):\n",
    "    import math\n",
    "    N = len(documents)\n",
    "    \n",
    "    idfDict = dict.fromkeys(documents[0].keys(), 0)\n",
    "    for document in documents:\n",
    "        for word, val in document.items():\n",
    "            if val > 0:\n",
    "                idfDict[word] += 1\n",
    "    \n",
    "    for word, val in idfDict.items():\n",
    "        idfDict[word] = math.log(N / float(val))\n",
    "    return idfDict"
   ]
  },
  {
   "cell_type": "code",
   "execution_count": 14,
   "metadata": {},
   "outputs": [
    {
     "data": {
      "text/plain": [
       "{'و': 0.0,\n",
       " 'الرياضيات': 0.6931471805599453,\n",
       " 'في': 0.6931471805599453,\n",
       " 'ذهب': 0.6931471805599453,\n",
       " 'محمد': 0.6931471805599453,\n",
       " 'الجامعة': 0.0,\n",
       " 'مني': 0.6931471805599453,\n",
       " 'ذاكرت': 0.6931471805599453,\n",
       " 'ليدرس': 0.6931471805599453,\n",
       " 'الي': 0.6931471805599453,\n",
       " 'الكيمياء': 0.6931471805599453,\n",
       " 'الفيزياء': 0.0}"
      ]
     },
     "execution_count": 14,
     "metadata": {},
     "output_type": "execute_result"
    }
   ],
   "source": [
    "idfs = computeIDF([numOfWordsA, numOfWordsB])\n",
    "idfs"
   ]
  },
  {
   "cell_type": "code",
   "execution_count": 15,
   "metadata": {},
   "outputs": [],
   "source": [
    "def computeTFIDF(tfBagOfWords, idfs):\n",
    "    tfidf = {}\n",
    "    for word, val in tfBagOfWords.items():\n",
    "        tfidf[word] = val * idfs[word]\n",
    "    return tfidf"
   ]
  },
  {
   "cell_type": "code",
   "execution_count": 16,
   "metadata": {},
   "outputs": [
    {
     "data": {
      "text/plain": [
       "{'و': 0.0,\n",
       " 'الرياضيات': 0.0,\n",
       " 'في': 0.0,\n",
       " 'ذهب': 0.08664339756999316,\n",
       " 'محمد': 0.08664339756999316,\n",
       " 'الجامعة': 0.0,\n",
       " 'مني': 0.0,\n",
       " 'ذاكرت': 0.0,\n",
       " 'ليدرس': 0.08664339756999316,\n",
       " 'الي': 0.08664339756999316,\n",
       " 'الكيمياء': 0.08664339756999316,\n",
       " 'الفيزياء': 0.0}"
      ]
     },
     "execution_count": 16,
     "metadata": {},
     "output_type": "execute_result"
    }
   ],
   "source": [
    "tfidfA = computeTFIDF(tfA, idfs)\n",
    "tfidfA"
   ]
  },
  {
   "cell_type": "code",
   "execution_count": 17,
   "metadata": {},
   "outputs": [
    {
     "data": {
      "text/plain": [
       "{'و': 0.0,\n",
       " 'الرياضيات': 0.09902102579427789,\n",
       " 'في': 0.09902102579427789,\n",
       " 'ذهب': 0.0,\n",
       " 'محمد': 0.0,\n",
       " 'الجامعة': 0.0,\n",
       " 'مني': 0.09902102579427789,\n",
       " 'ذاكرت': 0.09902102579427789,\n",
       " 'ليدرس': 0.0,\n",
       " 'الي': 0.0,\n",
       " 'الكيمياء': 0.0,\n",
       " 'الفيزياء': 0.0}"
      ]
     },
     "execution_count": 17,
     "metadata": {},
     "output_type": "execute_result"
    }
   ],
   "source": [
    "tfidfB = computeTFIDF(tfB, idfs)\n",
    "tfidfB"
   ]
  },
  {
   "cell_type": "code",
   "execution_count": 18,
   "metadata": {},
   "outputs": [
    {
     "data": {
      "text/html": [
       "<div>\n",
       "<style scoped>\n",
       "    .dataframe tbody tr th:only-of-type {\n",
       "        vertical-align: middle;\n",
       "    }\n",
       "\n",
       "    .dataframe tbody tr th {\n",
       "        vertical-align: top;\n",
       "    }\n",
       "\n",
       "    .dataframe thead th {\n",
       "        text-align: right;\n",
       "    }\n",
       "</style>\n",
       "<table border=\"1\" class=\"dataframe\">\n",
       "  <thead>\n",
       "    <tr style=\"text-align: right;\">\n",
       "      <th></th>\n",
       "      <th>و</th>\n",
       "      <th>الرياضيات</th>\n",
       "      <th>في</th>\n",
       "      <th>ذهب</th>\n",
       "      <th>محمد</th>\n",
       "      <th>الجامعة</th>\n",
       "      <th>مني</th>\n",
       "      <th>ذاكرت</th>\n",
       "      <th>ليدرس</th>\n",
       "      <th>الي</th>\n",
       "      <th>الكيمياء</th>\n",
       "      <th>الفيزياء</th>\n",
       "    </tr>\n",
       "  </thead>\n",
       "  <tbody>\n",
       "    <tr>\n",
       "      <td>0</td>\n",
       "      <td>0.0</td>\n",
       "      <td>0.000000</td>\n",
       "      <td>0.000000</td>\n",
       "      <td>0.086643</td>\n",
       "      <td>0.086643</td>\n",
       "      <td>0.0</td>\n",
       "      <td>0.000000</td>\n",
       "      <td>0.000000</td>\n",
       "      <td>0.086643</td>\n",
       "      <td>0.086643</td>\n",
       "      <td>0.086643</td>\n",
       "      <td>0.0</td>\n",
       "    </tr>\n",
       "    <tr>\n",
       "      <td>1</td>\n",
       "      <td>0.0</td>\n",
       "      <td>0.099021</td>\n",
       "      <td>0.099021</td>\n",
       "      <td>0.000000</td>\n",
       "      <td>0.000000</td>\n",
       "      <td>0.0</td>\n",
       "      <td>0.099021</td>\n",
       "      <td>0.099021</td>\n",
       "      <td>0.000000</td>\n",
       "      <td>0.000000</td>\n",
       "      <td>0.000000</td>\n",
       "      <td>0.0</td>\n",
       "    </tr>\n",
       "  </tbody>\n",
       "</table>\n",
       "</div>"
      ],
      "text/plain": [
       "     و  الرياضيات        في       ذهب      محمد  الجامعة       مني     ذاكرت  \\\n",
       "0  0.0   0.000000  0.000000  0.086643  0.086643      0.0  0.000000  0.000000   \n",
       "1  0.0   0.099021  0.099021  0.000000  0.000000      0.0  0.099021  0.099021   \n",
       "\n",
       "      ليدرس       الي  الكيمياء  الفيزياء  \n",
       "0  0.086643  0.086643  0.086643       0.0  \n",
       "1  0.000000  0.000000  0.000000       0.0  "
      ]
     },
     "execution_count": 18,
     "metadata": {},
     "output_type": "execute_result"
    }
   ],
   "source": [
    "df = pd.DataFrame([tfidfA, tfidfB])\n",
    "df.head()"
   ]
  },
  {
   "cell_type": "code",
   "execution_count": 19,
   "metadata": {},
   "outputs": [
    {
     "name": "stdout",
     "output_type": "stream",
     "text": [
      "  (0, 3)\t0.4078241041497786\n",
      "  (0, 2)\t0.29017020899133733\n",
      "  (0, 8)\t0.4078241041497786\n",
      "  (0, 0)\t0.29017020899133733\n",
      "  (0, 4)\t0.4078241041497786\n",
      "  (0, 9)\t0.4078241041497786\n",
      "  (0, 6)\t0.4078241041497786\n",
      "  (1, 7)\t0.4466561618018052\n",
      "  (1, 1)\t0.4466561618018052\n",
      "  (1, 10)\t0.4466561618018052\n",
      "  (1, 5)\t0.4466561618018052\n",
      "  (1, 2)\t0.31779953783628945\n",
      "  (1, 0)\t0.31779953783628945\n"
     ]
    }
   ],
   "source": [
    "from sklearn.feature_extraction.text import TfidfVectorizer\n",
    "vectorizer = TfidfVectorizer()\n",
    "vectors = vectorizer.fit_transform([documentA, documentB])\n",
    "print(vectors)"
   ]
  },
  {
   "cell_type": "code",
   "execution_count": 20,
   "metadata": {},
   "outputs": [
    {
     "data": {
      "text/plain": [
       "['الجامعة',\n",
       " 'الرياضيات',\n",
       " 'الفيزياء',\n",
       " 'الكيمياء',\n",
       " 'الي',\n",
       " 'ذاكرت',\n",
       " 'ذهب',\n",
       " 'في',\n",
       " 'ليدرس',\n",
       " 'محمد',\n",
       " 'مني']"
      ]
     },
     "execution_count": 20,
     "metadata": {},
     "output_type": "execute_result"
    }
   ],
   "source": [
    "feature_names = vectorizer.get_feature_names()\n",
    "feature_names"
   ]
  },
  {
   "cell_type": "code",
   "execution_count": 21,
   "metadata": {},
   "outputs": [
    {
     "data": {
      "text/plain": [
       "matrix([[0.29017021, 0.        , 0.29017021, 0.4078241 , 0.4078241 ,\n",
       "         0.        , 0.4078241 , 0.        , 0.4078241 , 0.4078241 ,\n",
       "         0.        ],\n",
       "        [0.31779954, 0.44665616, 0.31779954, 0.        , 0.        ,\n",
       "         0.44665616, 0.        , 0.44665616, 0.        , 0.        ,\n",
       "         0.44665616]])"
      ]
     },
     "execution_count": 21,
     "metadata": {},
     "output_type": "execute_result"
    }
   ],
   "source": [
    "dense = vectors.todense()\n",
    "dense"
   ]
  },
  {
   "cell_type": "code",
   "execution_count": 22,
   "metadata": {},
   "outputs": [
    {
     "data": {
      "text/html": [
       "<div>\n",
       "<style scoped>\n",
       "    .dataframe tbody tr th:only-of-type {\n",
       "        vertical-align: middle;\n",
       "    }\n",
       "\n",
       "    .dataframe tbody tr th {\n",
       "        vertical-align: top;\n",
       "    }\n",
       "\n",
       "    .dataframe thead th {\n",
       "        text-align: right;\n",
       "    }\n",
       "</style>\n",
       "<table border=\"1\" class=\"dataframe\">\n",
       "  <thead>\n",
       "    <tr style=\"text-align: right;\">\n",
       "      <th></th>\n",
       "      <th>الجامعة</th>\n",
       "      <th>الرياضيات</th>\n",
       "      <th>الفيزياء</th>\n",
       "      <th>الكيمياء</th>\n",
       "      <th>الي</th>\n",
       "      <th>ذاكرت</th>\n",
       "      <th>ذهب</th>\n",
       "      <th>في</th>\n",
       "      <th>ليدرس</th>\n",
       "      <th>محمد</th>\n",
       "      <th>مني</th>\n",
       "    </tr>\n",
       "  </thead>\n",
       "  <tbody>\n",
       "    <tr>\n",
       "      <td>0</td>\n",
       "      <td>0.29017</td>\n",
       "      <td>0.000000</td>\n",
       "      <td>0.29017</td>\n",
       "      <td>0.407824</td>\n",
       "      <td>0.407824</td>\n",
       "      <td>0.000000</td>\n",
       "      <td>0.407824</td>\n",
       "      <td>0.000000</td>\n",
       "      <td>0.407824</td>\n",
       "      <td>0.407824</td>\n",
       "      <td>0.000000</td>\n",
       "    </tr>\n",
       "    <tr>\n",
       "      <td>1</td>\n",
       "      <td>0.31780</td>\n",
       "      <td>0.446656</td>\n",
       "      <td>0.31780</td>\n",
       "      <td>0.000000</td>\n",
       "      <td>0.000000</td>\n",
       "      <td>0.446656</td>\n",
       "      <td>0.000000</td>\n",
       "      <td>0.446656</td>\n",
       "      <td>0.000000</td>\n",
       "      <td>0.000000</td>\n",
       "      <td>0.446656</td>\n",
       "    </tr>\n",
       "  </tbody>\n",
       "</table>\n",
       "</div>"
      ],
      "text/plain": [
       "   الجامعة  الرياضيات  الفيزياء  الكيمياء       الي     ذاكرت       ذهب  \\\n",
       "0  0.29017   0.000000   0.29017  0.407824  0.407824  0.000000  0.407824   \n",
       "1  0.31780   0.446656   0.31780  0.000000  0.000000  0.446656  0.000000   \n",
       "\n",
       "         في     ليدرس      محمد       مني  \n",
       "0  0.000000  0.407824  0.407824  0.000000  \n",
       "1  0.446656  0.000000  0.000000  0.446656  "
      ]
     },
     "execution_count": 22,
     "metadata": {},
     "output_type": "execute_result"
    }
   ],
   "source": [
    "denselist = dense.tolist()\n",
    "df = pd.DataFrame(denselist, columns=feature_names)\n",
    "df.head()"
   ]
  },
  {
   "cell_type": "code",
   "execution_count": null,
   "metadata": {},
   "outputs": [],
   "source": []
  },
  {
   "cell_type": "code",
   "execution_count": null,
   "metadata": {},
   "outputs": [],
   "source": []
  }
 ],
 "metadata": {
  "kernelspec": {
   "display_name": "Python 3",
   "language": "python",
   "name": "python3"
  },
  "language_info": {
   "codemirror_mode": {
    "name": "ipython",
    "version": 3
   },
   "file_extension": ".py",
   "mimetype": "text/x-python",
   "name": "python",
   "nbconvert_exporter": "python",
   "pygments_lexer": "ipython3",
   "version": "3.6.9"
  }
 },
 "nbformat": 4,
 "nbformat_minor": 2
}
