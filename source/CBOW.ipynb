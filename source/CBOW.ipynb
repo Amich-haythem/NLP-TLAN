{
 "cells": [
  {
   "cell_type": "code",
   "execution_count": 1,
   "metadata": {},
   "outputs": [],
   "source": [
    "import re\n",
    "import numpy as np\n",
    "import matplotlib.pyplot as plt"
   ]
  },
  {
   "cell_type": "code",
   "execution_count": 2,
   "metadata": {},
   "outputs": [],
   "source": [
    "sentences = \"\"\"We are about to study the idea of a computational process.\n",
    "Computational processes are abstract beings that inhabit computers.\n",
    "As they evolve, processes manipulate other abstract things called data.\n",
    "The evolution of a process é&'\"&'(èç_é\"&'-)àç_é&\"''\"')'\"' is directed by a pattern of rules\n",
    "called a program. People create programs to direct processes. In effect,\n",
    "we conjure the spirits of the computer with our spells '-(èç-èçà_&é\"'=à)é&\"'\"&é'\"'\"')'.\"\"\""
   ]
  },
  {
   "cell_type": "code",
   "execution_count": 3,
   "metadata": {},
   "outputs": [
    {
     "data": {
      "text/plain": [
       "'We are about to study the idea of a computational process Computational processes are abstract beings that inhabit computers As they evolve processes manipulate other abstract things called data The evolution of a process is directed by a pattern of rules called a program People create programs to direct processes In effect we conjure the spirits of the computer with our spells '"
      ]
     },
     "execution_count": 3,
     "metadata": {},
     "output_type": "execute_result"
    }
   ],
   "source": [
    "\n",
    "# remove special characters\n",
    "sentences = re.sub('[^A-Za-z0-9]+', ' ', sentences)\n",
    "sentences"
   ]
  },
  {
   "cell_type": "code",
   "execution_count": 4,
   "metadata": {},
   "outputs": [
    {
     "data": {
      "text/plain": [
       "'We are about to study the idea of computational process Computational processes are abstract beings that inhabit computers As they evolve processes manipulate other abstract things called data The evolution of process is directed by pattern of rules called program People create programs to direct processes In effect we conjure the spirits of the computer with our spells'"
      ]
     },
     "execution_count": 4,
     "metadata": {},
     "output_type": "execute_result"
    }
   ],
   "source": [
    "\n",
    "# remove 1 letter words\n",
    "sentences = re.sub(r'(?:^| )\\w(?:$| )', ' ', sentences).strip()\n",
    "sentences"
   ]
  },
  {
   "cell_type": "code",
   "execution_count": 5,
   "metadata": {},
   "outputs": [
    {
     "data": {
      "text/plain": [
       "'we are about to study the idea of computational process computational processes are abstract beings that inhabit computers as they evolve processes manipulate other abstract things called data the evolution of process is directed by pattern of rules called program people create programs to direct processes in effect we conjure the spirits of the computer with our spells'"
      ]
     },
     "execution_count": 5,
     "metadata": {},
     "output_type": "execute_result"
    }
   ],
   "source": [
    "\n",
    "# lower all characters\n",
    "sentences = sentences.lower()\n",
    "sentences"
   ]
  },
  {
   "cell_type": "code",
   "execution_count": 6,
   "metadata": {},
   "outputs": [
    {
     "data": {
      "text/plain": [
       "['we',\n",
       " 'are',\n",
       " 'about',\n",
       " 'to',\n",
       " 'study',\n",
       " 'the',\n",
       " 'idea',\n",
       " 'of',\n",
       " 'computational',\n",
       " 'process',\n",
       " 'computational',\n",
       " 'processes',\n",
       " 'are',\n",
       " 'abstract',\n",
       " 'beings',\n",
       " 'that',\n",
       " 'inhabit',\n",
       " 'computers',\n",
       " 'as',\n",
       " 'they',\n",
       " 'evolve',\n",
       " 'processes',\n",
       " 'manipulate',\n",
       " 'other',\n",
       " 'abstract',\n",
       " 'things',\n",
       " 'called',\n",
       " 'data',\n",
       " 'the',\n",
       " 'evolution',\n",
       " 'of',\n",
       " 'process',\n",
       " 'is',\n",
       " 'directed',\n",
       " 'by',\n",
       " 'pattern',\n",
       " 'of',\n",
       " 'rules',\n",
       " 'called',\n",
       " 'program',\n",
       " 'people',\n",
       " 'create',\n",
       " 'programs',\n",
       " 'to',\n",
       " 'direct',\n",
       " 'processes',\n",
       " 'in',\n",
       " 'effect',\n",
       " 'we',\n",
       " 'conjure',\n",
       " 'the',\n",
       " 'spirits',\n",
       " 'of',\n",
       " 'the',\n",
       " 'computer',\n",
       " 'with',\n",
       " 'our',\n",
       " 'spells']"
      ]
     },
     "execution_count": 6,
     "metadata": {},
     "output_type": "execute_result"
    }
   ],
   "source": [
    "words = sentences.split()\n",
    "words"
   ]
  },
  {
   "cell_type": "code",
   "execution_count": 7,
   "metadata": {},
   "outputs": [
    {
     "data": {
      "text/plain": [
       "{0: 'effect',\n",
       " 1: 'they',\n",
       " 2: 'pattern',\n",
       " 3: 'computers',\n",
       " 4: 'computer',\n",
       " 5: 'evolution',\n",
       " 6: 'with',\n",
       " 7: 'create',\n",
       " 8: 'by',\n",
       " 9: 'abstract',\n",
       " 10: 'other',\n",
       " 11: 'programs',\n",
       " 12: 'computational',\n",
       " 13: 'as',\n",
       " 14: 'the',\n",
       " 15: 'idea',\n",
       " 16: 'that',\n",
       " 17: 'process',\n",
       " 18: 'directed',\n",
       " 19: 'in',\n",
       " 20: 'processes',\n",
       " 21: 'beings',\n",
       " 22: 'called',\n",
       " 23: 'study',\n",
       " 24: 'we',\n",
       " 25: 'things',\n",
       " 26: 'is',\n",
       " 27: 'program',\n",
       " 28: 'are',\n",
       " 29: 'spirits',\n",
       " 30: 'our',\n",
       " 31: 'to',\n",
       " 32: 'conjure',\n",
       " 33: 'evolve',\n",
       " 34: 'spells',\n",
       " 35: 'of',\n",
       " 36: 'direct',\n",
       " 37: 'manipulate',\n",
       " 38: 'rules',\n",
       " 39: 'about',\n",
       " 40: 'people',\n",
       " 41: 'inhabit',\n",
       " 42: 'data'}"
      ]
     },
     "execution_count": 7,
     "metadata": {},
     "output_type": "execute_result"
    }
   ],
   "source": [
    "vocab = set(words)\n",
    "vocab_size = len(vocab)\n",
    "embed_dim = 10\n",
    "context_size = 2\n",
    "word_to_ix = {word: i for i, word in enumerate(vocab)}\n",
    "word_to_ix\n",
    "ix_to_word = {i: word for i, word in enumerate(vocab)}\n",
    "ix_to_word"
   ]
  },
  {
   "cell_type": "code",
   "execution_count": 8,
   "metadata": {},
   "outputs": [
    {
     "name": "stdout",
     "output_type": "stream",
     "text": [
      "[(['we', 'are', 'to', 'study'], 'about'), (['are', 'about', 'study', 'the'], 'to'), (['about', 'to', 'the', 'idea'], 'study'), (['to', 'study', 'idea', 'of'], 'the'), (['study', 'the', 'of', 'computational'], 'idea')]\n"
     ]
    }
   ],
   "source": [
    "# data - [(context), target]\n",
    "\n",
    "\n",
    "#  \"\"\"We are about to study the idea of a computational process.\n",
    "# Computational processes are abstract beings that inhabit computers.\n",
    "# As they evolve, processes manipulate other abstract things called data.\n",
    "# The evolution of a process is directed by a pattern of rules\n",
    "# called a program. People create programs to direct processes. In effect,\n",
    "# we conjure the spirits of the computer with our spells.\"\"\"\n",
    "\n",
    "\n",
    "data = []\n",
    "for i in range(2, len(words) - 2):\n",
    "    context = [words[i - 2], words[i - 1], words[i + 1], words[i + 2]]\n",
    "    target = words[i]\n",
    "    data.append((context, target))\n",
    "print(data[:5])"
   ]
  },
  {
   "cell_type": "code",
   "execution_count": 9,
   "metadata": {},
   "outputs": [
    {
     "name": "stdout",
     "output_type": "stream",
     "text": [
      "(43, 10)\n"
     ]
    },
    {
     "data": {
      "text/plain": [
       "array([[0.84353773, 0.99660155, 0.44654282, 0.07367461, 0.30712341,\n",
       "        0.08221329, 0.83551298, 0.70973565, 0.58496941, 0.02338608],\n",
       "       [0.86234449, 0.06354418, 0.81521677, 0.18762189, 0.55369753,\n",
       "        0.63575043, 0.03243276, 0.63164404, 0.47093467, 0.08265527],\n",
       "       [0.18858412, 0.00215481, 0.08442872, 0.93661394, 0.73125128,\n",
       "        0.31435845, 0.92666263, 0.47000888, 0.36323377, 0.54506729],\n",
       "       [0.80881911, 0.5869232 , 0.93754428, 0.64685934, 0.6667376 ,\n",
       "        0.96482435, 0.06104906, 0.70502266, 0.96830032, 0.26858174],\n",
       "       [0.85157618, 0.11515397, 0.38794096, 0.74289404, 0.46710838,\n",
       "        0.87623291, 0.1630009 , 0.90220963, 0.93955903, 0.13592917],\n",
       "       [0.27714388, 0.12440413, 0.09031895, 0.93289796, 0.03236332,\n",
       "        0.4472043 , 0.40777525, 0.31495513, 0.73531422, 0.30955611],\n",
       "       [0.97232054, 0.48480077, 0.19310978, 0.10399466, 0.37434333,\n",
       "        0.90695357, 0.33887532, 0.82519897, 0.70396468, 0.00208177],\n",
       "       [0.62907354, 0.11105392, 0.70482391, 0.39537604, 0.7223787 ,\n",
       "        0.00649634, 0.48748481, 0.24751215, 0.50096024, 0.31887269],\n",
       "       [0.20495807, 0.07830035, 0.11366688, 0.52461918, 0.85821193,\n",
       "        0.57486662, 0.02743563, 0.51545402, 0.64464866, 0.14187602],\n",
       "       [0.78420188, 0.8395587 , 0.34355457, 0.44454427, 0.63232484,\n",
       "        0.72521753, 0.17624428, 0.16928314, 0.80504239, 0.89689252],\n",
       "       [0.80113957, 0.85591353, 0.3255038 , 0.97423791, 0.12193786,\n",
       "        0.24708718, 0.79742997, 0.79839373, 0.64292735, 0.29847893],\n",
       "       [0.95699902, 0.56639826, 0.4568294 , 0.21819684, 0.5530406 ,\n",
       "        0.22039164, 0.27134176, 0.40232482, 0.19778751, 0.06682642],\n",
       "       [0.85513865, 0.13036126, 0.61795931, 0.66450457, 0.08459526,\n",
       "        0.44362463, 0.94534684, 0.35852998, 0.44983897, 0.66089512],\n",
       "       [0.19603161, 0.56309307, 0.66283358, 0.23047347, 0.16190089,\n",
       "        0.86717644, 0.19024495, 0.07373736, 0.74702762, 0.06910543],\n",
       "       [0.92765772, 0.53893065, 0.10281125, 0.43063106, 0.73729118,\n",
       "        0.05807729, 0.96280268, 0.81426064, 0.05971369, 0.75238822],\n",
       "       [0.91785962, 0.01937128, 0.24266813, 0.5843876 , 0.28409567,\n",
       "        0.06440954, 0.38831938, 0.58829492, 0.41836953, 0.88345191],\n",
       "       [0.95674449, 0.12176106, 0.76521736, 0.82340621, 0.20800599,\n",
       "        0.63522556, 0.66970395, 0.82844281, 0.70960543, 0.41220257],\n",
       "       [0.63683222, 0.86465378, 0.00995205, 0.81959504, 0.86786721,\n",
       "        0.28830051, 0.56887931, 0.25550004, 0.62456882, 0.40599818],\n",
       "       [0.73554177, 0.60066259, 0.94398827, 0.33493869, 0.71574855,\n",
       "        0.64899453, 0.33717267, 0.6411447 , 0.11574628, 0.18893635],\n",
       "       [0.26497768, 0.20912693, 0.46293512, 0.76917908, 0.29761016,\n",
       "        0.28459447, 0.67981784, 0.6920207 , 0.34084172, 0.8173294 ],\n",
       "       [0.68797606, 0.34252459, 0.52977743, 0.70066395, 0.48388876,\n",
       "        0.27932483, 0.25560625, 0.2501004 , 0.44103812, 0.27325382],\n",
       "       [0.63080658, 0.53392592, 0.67924813, 0.33645302, 0.96147255,\n",
       "        0.34341263, 0.04134658, 0.85725585, 0.16858205, 0.7103899 ],\n",
       "       [0.64077234, 0.16055039, 0.41901764, 0.08747064, 0.70706369,\n",
       "        0.41419218, 0.27112523, 0.14693932, 0.14303731, 0.07240847],\n",
       "       [0.34686536, 0.46355455, 0.06050068, 0.25216535, 0.91051656,\n",
       "        0.96122028, 0.31498637, 0.5548096 , 0.19367298, 0.69307472],\n",
       "       [0.06000336, 0.41027206, 0.7572749 , 0.45443409, 0.12629469,\n",
       "        0.02648696, 0.32176431, 0.02489788, 0.83782643, 0.42178017],\n",
       "       [0.34337295, 0.69796273, 0.05412173, 0.35713079, 0.16325714,\n",
       "        0.31631944, 0.39405359, 0.17752374, 0.60967873, 0.08738421],\n",
       "       [0.39810052, 0.3165824 , 0.87754711, 0.22030348, 0.19332676,\n",
       "        0.75284459, 0.54501648, 0.91350566, 0.24031673, 0.15731606],\n",
       "       [0.56497025, 0.61078576, 0.08630319, 0.63119983, 0.08399419,\n",
       "        0.00244558, 0.2811362 , 0.91018816, 0.76284739, 0.064379  ],\n",
       "       [0.90717841, 0.81965074, 0.90851078, 0.72970566, 0.52850875,\n",
       "        0.98111978, 0.75625916, 0.20949549, 0.49814722, 0.22575728],\n",
       "       [0.31014078, 0.8199333 , 0.44474298, 0.87014078, 0.47327488,\n",
       "        0.97719999, 0.74532629, 0.93397738, 0.34967107, 0.73839221],\n",
       "       [0.98284046, 0.4428621 , 0.76773969, 0.52471851, 0.44183108,\n",
       "        0.2013184 , 0.94122501, 0.35048032, 0.88556034, 0.34042184],\n",
       "       [0.9259043 , 0.95914841, 0.72642283, 0.06878693, 0.27791991,\n",
       "        0.63774242, 0.61656755, 0.73443743, 0.72798725, 0.76157185],\n",
       "       [0.21011143, 0.25606895, 0.07294368, 0.24102035, 0.26207081,\n",
       "        0.65712234, 0.9537943 , 0.07185021, 0.06254935, 0.22861131],\n",
       "       [0.24058499, 0.01705745, 0.36630682, 0.89570426, 0.89417113,\n",
       "        0.18953308, 0.79254922, 0.50954106, 0.35900756, 0.42707694],\n",
       "       [0.58306565, 0.21441687, 0.33188783, 0.00765953, 0.72771251,\n",
       "        0.10058754, 0.79665598, 0.90112298, 0.15252859, 0.2973967 ],\n",
       "       [0.59298215, 0.37123856, 0.37750458, 0.8544375 , 0.1015554 ,\n",
       "        0.84110326, 0.35797589, 0.29312308, 0.35332451, 0.18461465],\n",
       "       [0.74630284, 0.99241969, 0.22701625, 0.03820817, 0.19491617,\n",
       "        0.50652232, 0.70801015, 0.90576521, 0.52412294, 0.3873939 ],\n",
       "       [0.8459777 , 0.06449793, 0.69803848, 0.68881803, 0.40051368,\n",
       "        0.6088331 , 0.80309405, 0.50213632, 0.15152322, 0.14196724],\n",
       "       [0.12941826, 0.35702759, 0.10755356, 0.3581326 , 0.60356714,\n",
       "        0.48483785, 0.99783832, 0.42396509, 0.20863952, 0.37213717],\n",
       "       [0.61041796, 0.80162751, 0.5268261 , 0.97296565, 0.7842077 ,\n",
       "        0.39224856, 0.42708798, 0.79513483, 0.61981652, 0.39340089],\n",
       "       [0.14533891, 0.452481  , 0.20977533, 0.30753052, 0.7694262 ,\n",
       "        0.70174392, 0.02219992, 0.81370994, 0.82927228, 0.19822065],\n",
       "       [0.75450267, 0.85294687, 0.13148612, 0.23494799, 0.84198478,\n",
       "        0.65083692, 0.92371319, 0.85316143, 0.03663842, 0.10631578],\n",
       "       [0.11266963, 0.75300696, 0.32952237, 0.83199422, 0.13800309,\n",
       "        0.55551733, 0.32125254, 0.1456796 , 0.71649303, 0.23344381]])"
      ]
     },
     "execution_count": 9,
     "metadata": {},
     "output_type": "execute_result"
    }
   ],
   "source": [
    "\n",
    "embeddings =  np.random.random_sample((vocab_size, embed_dim))\n",
    "print(embeddings.shape)\n",
    "embeddings"
   ]
  },
  {
   "cell_type": "code",
   "execution_count": 10,
   "metadata": {},
   "outputs": [],
   "source": [
    "def linear(m, theta):\n",
    "    w = theta\n",
    "    return m.dot(w)"
   ]
  },
  {
   "cell_type": "code",
   "execution_count": 11,
   "metadata": {},
   "outputs": [],
   "source": [
    "\n",
    "def log_softmax(x):\n",
    "    e_x = np.exp(x - np.max(x))\n",
    "    return np.log(e_x / e_x.sum())\n"
   ]
  },
  {
   "cell_type": "code",
   "execution_count": 12,
   "metadata": {},
   "outputs": [],
   "source": [
    "def NLLLoss(logs, targets):\n",
    "    out = logs[range(len(targets)), targets]\n",
    "    return -out.sum()/len(out)"
   ]
  },
  {
   "cell_type": "code",
   "execution_count": 13,
   "metadata": {},
   "outputs": [],
   "source": [
    "def log_softmax_crossentropy_with_logits(logits,target):\n",
    "\n",
    "    out = np.zeros_like(logits)\n",
    "    out[np.arange(len(logits)),target] = 1\n",
    "    \n",
    "    softmax = np.exp(logits) / np.exp(logits).sum(axis=-1,keepdims=True)\n",
    "    \n",
    "    return (- out + softmax) / logits.shape[0]"
   ]
  },
  {
   "cell_type": "code",
   "execution_count": 14,
   "metadata": {},
   "outputs": [],
   "source": [
    "\n",
    "def forward(context_idxs, theta):\n",
    "    m = embeddings[context_idxs].reshape(1, -1)\n",
    "    n = linear(m, theta)\n",
    "    o = log_softmax(n)\n",
    "    return m, n, o"
   ]
  },
  {
   "cell_type": "code",
   "execution_count": 15,
   "metadata": {},
   "outputs": [],
   "source": [
    "def backward(preds, theta, target_idxs):\n",
    "    m, n, o = preds\n",
    "    dlog = log_softmax_crossentropy_with_logits(n, target_idxs)\n",
    "    dw = m.T.dot(dlog)\n",
    "    return dw"
   ]
  },
  {
   "cell_type": "code",
   "execution_count": 16,
   "metadata": {},
   "outputs": [],
   "source": [
    "def optimize(theta, grad, lr=0.03):\n",
    "    theta -= grad * lr\n",
    "    return theta"
   ]
  },
  {
   "cell_type": "code",
   "execution_count": 17,
   "metadata": {},
   "outputs": [
    {
     "data": {
      "text/plain": [
       "(40, 43)"
      ]
     },
     "execution_count": 17,
     "metadata": {},
     "output_type": "execute_result"
    }
   ],
   "source": [
    "theta = np.random.uniform(-1, 1, (2 * context_size * embed_dim, vocab_size))\n",
    "theta.shape"
   ]
  },
  {
   "cell_type": "code",
   "execution_count": 18,
   "metadata": {},
   "outputs": [],
   "source": [
    "# [(['we', 'are', 'to', 'study'], 'about'), (['are', 'about', 'study', 'the'], 'to'), (['about', 'to', 'the', 'idea'], 'study'), (['to', 'study', 'idea', 'of'], 'the'), (['study', 'the', 'of', 'computational'], 'idea')]\n",
    "\n",
    "epoch_losses = {}\n",
    "\n",
    "for epoch in range(80):\n",
    "\n",
    "    losses =  []\n",
    "\n",
    "    for context, target in data:\n",
    "        context_idxs = np.array([word_to_ix[w] for w in context])\n",
    "        preds = forward(context_idxs, theta)\n",
    "\n",
    "        target_idxs = np.array([word_to_ix[target]])\n",
    "        loss = NLLLoss(preds[-1], target_idxs)\n",
    "\n",
    "        losses.append(loss)\n",
    "\n",
    "        grad = backward(preds, theta, target_idxs)\n",
    "        theta = optimize(theta, grad, lr=0.03)\n",
    "        \n",
    "     \n",
    "    epoch_losses[epoch] = losses"
   ]
  },
  {
   "cell_type": "code",
   "execution_count": 19,
   "metadata": {},
   "outputs": [
    {
     "data": {
      "text/plain": [
       "Text(0, 0.5, 'Losses')"
      ]
     },
     "execution_count": 19,
     "metadata": {},
     "output_type": "execute_result"
    },
    {
     "data": {
      "image/png": "[encoded data removed]",
      "text/plain": [
       "<Figure size 432x288 with 1 Axes>"
      ]
     },
     "metadata": {
      "needs_background": "light"
     },
     "output_type": "display_data"
    }
   ],
   "source": [
    "ix = np.arange(0,80)\n",
    "\n",
    "fig = plt.figure()\n",
    "fig.suptitle('Epoch/Losses', fontsize=20)\n",
    "plt.plot(ix,[epoch_losses[i][0] for i in ix])\n",
    "plt.xlabel('Epochs', fontsize=12)\n",
    "plt.ylabel('Losses', fontsize=12)"
   ]
  },
  {
   "cell_type": "code",
   "execution_count": 20,
   "metadata": {},
   "outputs": [],
   "source": [
    "def predict(words):\n",
    "    context_idxs = np.array([word_to_ix[w] for w in words])\n",
    "    preds = forward(context_idxs, theta)\n",
    "    word = ix_to_word[np.argmax(preds[-1])]\n",
    "    \n",
    "    return word"
   ]
  },
  {
   "cell_type": "code",
   "execution_count": 21,
   "metadata": {},
   "outputs": [
    {
     "data": {
      "text/plain": [
       "'about'"
      ]
     },
     "execution_count": 21,
     "metadata": {},
     "output_type": "execute_result"
    }
   ],
   "source": [
    "# (['we', 'are', 'to', 'study'], 'about')\n",
    "predict(['we', 'are', 'to', 'study'])"
   ]
  },
  {
   "cell_type": "code",
   "execution_count": 22,
   "metadata": {},
   "outputs": [],
   "source": [
    "def accuracy():\n",
    "    wrong = 0\n",
    "\n",
    "    for context, target in data:\n",
    "        if(predict(context) != target):\n",
    "            wrong += 1\n",
    "            \n",
    "    return (1 - (wrong / len(data)))"
   ]
  },
  {
   "cell_type": "code",
   "execution_count": 23,
   "metadata": {},
   "outputs": [
    {
     "data": {
      "text/plain": [
       "1.0"
      ]
     },
     "execution_count": 23,
     "metadata": {},
     "output_type": "execute_result"
    }
   ],
   "source": [
    "accuracy()"
   ]
  },
  {
   "cell_type": "code",
   "execution_count": null,
   "metadata": {},
   "outputs": [],
   "source": []
  }
 ],
 "metadata": {
  "kernelspec": {
   "display_name": "Python 3",
   "language": "python",
   "name": "python3"
  },
  "language_info": {
   "codemirror_mode": {
    "name": "ipython",
    "version": 3
   },
   "file_extension": ".py",
   "mimetype": "text/x-python",
   "name": "python",
   "nbconvert_exporter": "python",
   "pygments_lexer": "ipython3",
   "version": "3.6.9"
  }
 },
 "nbformat": 4,
 "nbformat_minor": 2
}
